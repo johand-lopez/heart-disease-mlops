{
 "cells": [
  {
   "cell_type": "code",
   "execution_count": null,
   "id": "cf200d41",
   "metadata": {},
   "outputs": [
    {
     "name": "stdout",
     "output_type": "stream",
     "text": [
      "✅ Guardadas 15 columnas en training_columns.json\n",
      "Dimensiones de entrenamiento: (734, 15)\n",
      "Dimensiones de prueba: (184, 15)\n"
     ]
    }
   ],
   "source": [
    "import pandas as pd\n",
    "import numpy as np\n",
    "from sklearn.model_selection import train_test_split, GridSearchCV\n",
    "from sklearn.preprocessing import MinMaxScaler\n",
    "from sklearn.pipeline import Pipeline\n",
    "from sklearn.metrics import roc_auc_score, accuracy_score\n",
    "\n",
    "from sklearn.linear_model import LogisticRegression\n",
    "from sklearn.ensemble import RandomForestClassifier, GradientBoostingClassifier\n",
    "from sklearn.neighbors import KNeighborsClassifier\n",
    "\n",
    "df = pd.read_csv(r\"C:\\Users\\johan\\OneDrive - Universidad del Norte\\Escritorio\\MachineLearning\\heart-disease-mlops\\heart.csv\")\n",
    "\n",
    "df_encoded = pd.get_dummies(df, drop_first=True)\n",
    "\n",
    "X = df_encoded.drop(\"HeartDisease\", axis=1)\n",
    "y = df_encoded[\"HeartDisease\"]\n",
    "\n",
    "import json\n",
    "\n",
    "cols = X.columns.tolist()\n",
    "with open(r\"C:\\Users\\johan\\OneDrive - Universidad del Norte\\Escritorio\\MachineLearning\\heart-disease-mlops\\training_columns.json\", \"w\") as f:\n",
    "    json.dump(cols, f)\n",
    "\n",
    "print(f\"✅ Guardadas {len(cols)} columnas en training_columns.json\")\n",
    "\n",
    "X_train, X_test, y_train, y_test = train_test_split(X, y, test_size=0.2, random_state=42)\n",
    "\n",
    "print(\"Dimensiones de entrenamiento:\", X_train.shape)\n",
    "print(\"Dimensiones de prueba:\", X_test.shape)\n",
    "\n"
   ]
  },
  {
   "cell_type": "code",
   "execution_count": null,
   "id": "13549dca",
   "metadata": {},
   "outputs": [],
   "source": [
    "def train_pipeline(model, param_grid, X_train, y_train, X_test, y_test):\n",
    "    pipe = Pipeline([\n",
    "        (\"scaler\", MinMaxScaler()),\n",
    "        (\"clf\", model)\n",
    "    ])\n",
    "\n",
    "    grid = GridSearchCV(\n",
    "        pipe,\n",
    "        param_grid=param_grid,\n",
    "        cv=5,\n",
    "        scoring=\"roc_auc\",\n",
    "        n_jobs=-1\n",
    "    )\n",
    "    grid.fit(X_train, y_train)\n",
    "\n",
    "    y_pred = grid.predict(X_test)\n",
    "    y_prob = grid.predict_proba(X_test)[:, 1]\n",
    "\n",
    "    auc = roc_auc_score(y_test, y_prob)\n",
    "    acc = accuracy_score(y_test, y_pred)\n",
    "\n",
    "    return {\n",
    "        \"modelo\": model.__class__.__name__,\n",
    "        \"mejor_auc\": auc,\n",
    "        \"mejor_acc\": acc,\n",
    "        \"mejores_param\": grid.best_params_,\n",
    "        \"mejor_modelo\": grid.best_estimator_\n",
    "    }\n"
   ]
  },
  {
   "cell_type": "code",
   "execution_count": null,
   "id": "c13b7dc5",
   "metadata": {},
   "outputs": [],
   "source": [
    "modelos = [\n",
    "    {\n",
    "        \"modelo\": LogisticRegression(max_iter=500),\n",
    "        \"param_grid\": {\"clf__C\": [0.01, 0.1, 1, 10]}\n",
    "    },\n",
    "    {\n",
    "        \"modelo\": RandomForestClassifier(),\n",
    "        \"param_grid\": {\"clf__n_estimators\": [100, 200], \"clf__max_depth\": [3, 5, 10]}\n",
    "    },\n",
    "    {\n",
    "        \"modelo\": KNeighborsClassifier(),\n",
    "        \"param_grid\": {\"clf__n_neighbors\": [3, 5, 7]}\n",
    "    },\n",
    "    {\n",
    "        \"modelo\": GradientBoostingClassifier(),\n",
    "        \"param_grid\": {\"clf__learning_rate\": [0.01, 0.1], \"clf__n_estimators\": [100, 200]}\n",
    "    }\n",
    "]\n"
   ]
  },
  {
   "cell_type": "code",
   "execution_count": null,
   "id": "016c04da",
   "metadata": {},
   "outputs": [
    {
     "name": "stdout",
     "output_type": "stream",
     "text": [
      "Entrenando modelo: LogisticRegression\n",
      "Entrenando modelo: RandomForestClassifier\n",
      "Entrenando modelo: KNeighborsClassifier\n",
      "Entrenando modelo: GradientBoostingClassifier\n"
     ]
    },
    {
     "data": {
      "text/html": [
       "<div>\n",
       "<style scoped>\n",
       "    .dataframe tbody tr th:only-of-type {\n",
       "        vertical-align: middle;\n",
       "    }\n",
       "\n",
       "    .dataframe tbody tr th {\n",
       "        vertical-align: top;\n",
       "    }\n",
       "\n",
       "    .dataframe thead th {\n",
       "        text-align: right;\n",
       "    }\n",
       "</style>\n",
       "<table border=\"1\" class=\"dataframe\">\n",
       "  <thead>\n",
       "    <tr style=\"text-align: right;\">\n",
       "      <th></th>\n",
       "      <th>modelo</th>\n",
       "      <th>mejor_auc</th>\n",
       "      <th>mejor_acc</th>\n",
       "      <th>mejores_param</th>\n",
       "      <th>mejor_modelo</th>\n",
       "    </tr>\n",
       "  </thead>\n",
       "  <tbody>\n",
       "    <tr>\n",
       "      <th>1</th>\n",
       "      <td>RandomForestClassifier</td>\n",
       "      <td>0.933973</td>\n",
       "      <td>0.875000</td>\n",
       "      <td>{'clf__max_depth': 10, 'clf__n_estimators': 100}</td>\n",
       "      <td>(MinMaxScaler(), (DecisionTreeClassifier(max_d...</td>\n",
       "    </tr>\n",
       "    <tr>\n",
       "      <th>3</th>\n",
       "      <td>GradientBoostingClassifier</td>\n",
       "      <td>0.928025</td>\n",
       "      <td>0.864130</td>\n",
       "      <td>{'clf__learning_rate': 0.1, 'clf__n_estimators...</td>\n",
       "      <td>(MinMaxScaler(), ([DecisionTreeRegressor(crite...</td>\n",
       "    </tr>\n",
       "    <tr>\n",
       "      <th>0</th>\n",
       "      <td>LogisticRegression</td>\n",
       "      <td>0.926812</td>\n",
       "      <td>0.853261</td>\n",
       "      <td>{'clf__C': 1}</td>\n",
       "      <td>(MinMaxScaler(), LogisticRegression(C=1, max_i...</td>\n",
       "    </tr>\n",
       "    <tr>\n",
       "      <th>2</th>\n",
       "      <td>KNeighborsClassifier</td>\n",
       "      <td>0.910365</td>\n",
       "      <td>0.853261</td>\n",
       "      <td>{'clf__n_neighbors': 7}</td>\n",
       "      <td>(MinMaxScaler(), KNeighborsClassifier(n_neighb...</td>\n",
       "    </tr>\n",
       "  </tbody>\n",
       "</table>\n",
       "</div>"
      ],
      "text/plain": [
       "                       modelo  mejor_auc  mejor_acc  \\\n",
       "1      RandomForestClassifier   0.933973   0.875000   \n",
       "3  GradientBoostingClassifier   0.928025   0.864130   \n",
       "0          LogisticRegression   0.926812   0.853261   \n",
       "2        KNeighborsClassifier   0.910365   0.853261   \n",
       "\n",
       "                                       mejores_param  \\\n",
       "1   {'clf__max_depth': 10, 'clf__n_estimators': 100}   \n",
       "3  {'clf__learning_rate': 0.1, 'clf__n_estimators...   \n",
       "0                                      {'clf__C': 1}   \n",
       "2                            {'clf__n_neighbors': 7}   \n",
       "\n",
       "                                        mejor_modelo  \n",
       "1  (MinMaxScaler(), (DecisionTreeClassifier(max_d...  \n",
       "3  (MinMaxScaler(), ([DecisionTreeRegressor(crite...  \n",
       "0  (MinMaxScaler(), LogisticRegression(C=1, max_i...  \n",
       "2  (MinMaxScaler(), KNeighborsClassifier(n_neighb...  "
      ]
     },
     "execution_count": 4,
     "metadata": {},
     "output_type": "execute_result"
    }
   ],
   "source": [
    "resultados = []\n",
    "\n",
    "for m in modelos:\n",
    "    print(f\"Entrenando modelo: {m['modelo'].__class__.__name__}\")\n",
    "    r = train_pipeline(m[\"modelo\"], m[\"param_grid\"], X_train, y_train, X_test, y_test)\n",
    "    resultados.append(r)\n",
    "\n",
    "df_resultados = pd.DataFrame(resultados).sort_values(by=\"mejor_auc\", ascending=False)\n",
    "df_resultados\n"
   ]
  },
  {
   "cell_type": "code",
   "execution_count": null,
   "id": "93af5b38",
   "metadata": {},
   "outputs": [
    {
     "name": "stdout",
     "output_type": "stream",
     "text": [
      "✅ Modelo exportado correctamente como 'model.joblib'\n"
     ]
    }
   ],
   "source": [
    "import joblib\n",
    "\n",
    "best_model = df_resultados.iloc[0][\"mejor_modelo\"]\n",
    "joblib.dump(best_model, r\"C:\\Users\\johan\\OneDrive - Universidad del Norte\\Escritorio\\MachineLearning\\heart-disease-mlops\\model.joblib\")\n",
    "\n",
    "print(\"✅ Modelo exportado correctamente como 'model.joblib'\")\n"
   ]
  },
  {
   "cell_type": "code",
   "execution_count": 6,
   "id": "a8bbc0e4",
   "metadata": {},
   "outputs": [
    {
     "name": "stderr",
     "output_type": "stream",
     "text": [
      "C:\\Users\\johan\\AppData\\Local\\Temp\\ipykernel_33972\\1907286218.py:5: FutureWarning: \n",
      "\n",
      "Passing `palette` without assigning `hue` is deprecated and will be removed in v0.14.0. Assign the `y` variable to `hue` and set `legend=False` for the same effect.\n",
      "\n",
      "  sns.barplot(data=df_resultados, x=\"mejor_auc\", y=\"modelo\", palette=\"viridis\")\n"
     ]
    },
    {
     "data": {
      "image/png": "[encoded data removed]",
      "text/plain": [
       "<Figure size 800x400 with 1 Axes>"
      ]
     },
     "metadata": {},
     "output_type": "display_data"
    }
   ],
   "source": [
    "import seaborn as sns\n",
    "import matplotlib.pyplot as plt\n",
    "\n",
    "plt.figure(figsize=(8,4))\n",
    "sns.barplot(data=df_resultados, x=\"mejor_auc\", y=\"modelo\", palette=\"viridis\")\n",
    "plt.title(\"Comparación de modelos por AUC\")\n",
    "plt.xlabel(\"AUC\")\n",
    "plt.ylabel(\"Modelo\")\n",
    "plt.show()\n"
   ]
  },
  {
   "cell_type": "markdown",
   "id": "9a0b469f",
   "metadata": {},
   "source": [
    "### Conclusiones – Etapa 2: Modelado con validación segura\n",
    "\n",
    "- Se entrenaron cuatro clasificadores utilizando `Pipeline` y `GridSearchCV` con validación cruzada (cv=5).\n",
    "- El modelo **RandomForestClassifier** obtuvo el mejor desempeño con un **AUC = 0.934** y **Accuracy = 0.875**.\n",
    "- Los modelos **GradientBoosting** y **LogisticRegression** también mostraron resultados competitivos.\n",
    "- Se exportó el modelo óptimo (`model.joblib`) para ser desplegado mediante FastAPI en la siguiente etapa.\n"
   ]
  }
 ],
 "metadata": {
  "kernelspec": {
   "display_name": "ml_venv",
   "language": "python",
   "name": "python3"
  },
  "language_info": {
   "codemirror_mode": {
    "name": "ipython",
    "version": 3
   },
   "file_extension": ".py",
   "mimetype": "text/x-python",
   "name": "python",
   "nbconvert_exporter": "python",
   "pygments_lexer": "ipython3",
   "version": "3.9.23"
  }
 },
 "nbformat": 4,
 "nbformat_minor": 5
}
